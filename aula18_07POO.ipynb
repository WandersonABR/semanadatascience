{
 "cells": [
  {
   "cell_type": "markdown",
   "metadata": {},
   "source": [
    "# Orientação a objetos\n",
    "- É uma técnica na programação baseada na contrução e utilização de objetos.\n",
    "- Um sistema OO é um conjunto de objetos que se relacionam para produzir os resultados desejados."
   ]
  },
  {
   "cell_type": "markdown",
   "metadata": {},
   "source": [
    "# O que é Objeto?\n",
    "- Um objeto é uma instância de uma classe. Ele representa uma entidade do mundo real ou um conceito, com atributos (dados) e métodos (comportamentos). Por exemplo, um objeto Carro pode ter atributos como cor e modelo, e métodos como acelerar e frear."
   ]
  },
  {
   "cell_type": "markdown",
   "metadata": {},
   "source": [
    "# O que é uma classe?\n",
    "Uma classe é uma estrutura que define os atributos e métodos que os objetos desse tipo terão. Ela serve como um molde para criar objetos. Por exemplo, a classe Carro define o que um carro é e o que ele pode fazer."
   ]
  },
  {
   "cell_type": "code",
   "execution_count": 4,
   "metadata": {},
   "outputs": [
    {
     "name": "stdout",
     "output_type": "stream",
     "text": [
      "O carro Ferrari está acelerando.\n"
     ]
    }
   ],
   "source": [
    "class Carro:\n",
    "    def __init__(self, cor, modelo):\n",
    "        self.cor = cor\n",
    "        self.modelo = modelo\n",
    "\n",
    "    def acelerar(self):\n",
    "        print(f\"O carro {self.modelo} está acelerando.\")\n",
    "\n",
    "# Criando um objeto\n",
    "meu_carro = Carro(\"vermelho\", \"Ferrari\")\n",
    "meu_carro.acelerar()\n",
    "\n"
   ]
  },
  {
   "cell_type": "markdown",
   "metadata": {},
   "source": [
    "# O que é Método?\n",
    "- Um método é uma função definida dentro de uma classe. Ele define um comportamento que os objetos dessa classe podem realizar. Métodos podem manipular os dados do objeto (seus atributos) e interagir com outros objetos."
   ]
  },
  {
   "cell_type": "code",
   "execution_count": 5,
   "metadata": {},
   "outputs": [
    {
     "name": "stdout",
     "output_type": "stream",
     "text": [
      "Olá, meu nome é João e eu tenho 30 anos.\n"
     ]
    }
   ],
   "source": [
    "class Pessoa:\n",
    "    def __init__(self, nome, idade):\n",
    "        self.nome = nome\n",
    "        self.idade = idade\n",
    "\n",
    "    def saudacao(self):\n",
    "        print(f\"Olá, meu nome é {self.nome} e eu tenho {self.idade} anos.\")\n",
    "\n",
    "# Criando um objeto\n",
    "pessoa = Pessoa(\"João\", 30)\n",
    "pessoa.saudacao()\n"
   ]
  },
  {
   "cell_type": "markdown",
   "metadata": {},
   "source": [
    "# O que é Herança?\n",
    "- Herança é um mecanismo que permite criar uma nova classe com base em uma classe existente. A nova classe herda os atributos e métodos da classe base, podendo adicionar novos ou modificar os existentes. Isso promove a reutilização de código."
   ]
  },
  {
   "cell_type": "code",
   "execution_count": 6,
   "metadata": {},
   "outputs": [
    {
     "name": "stdout",
     "output_type": "stream",
     "text": [
      "Au Au\n"
     ]
    }
   ],
   "source": [
    "class Animal:\n",
    "    def __init__(self, nome):\n",
    "        self.nome = nome\n",
    "\n",
    "    def falar(self):\n",
    "        pass\n",
    "\n",
    "class Cachorro(Animal):\n",
    "    def falar(self):\n",
    "        print(\"Au Au\")\n",
    "\n",
    "# Criando um objeto\n",
    "meu_cachorro = Cachorro(\"Rex\")\n",
    "meu_cachorro.falar()\n"
   ]
  },
  {
   "cell_type": "markdown",
   "metadata": {},
   "source": [
    "# O que é Polimorfismo?\n",
    "- Polimorfismo permite que diferentes classes utilizem métodos com o mesmo nome, mas comportamentos diferentes. Em Python, isso pode ser alcançado através da herança e sobrescrita de métodos."
   ]
  },
  {
   "cell_type": "code",
   "execution_count": 7,
   "metadata": {},
   "outputs": [
    {
     "name": "stdout",
     "output_type": "stream",
     "text": [
      "Au Au\n",
      "Miau\n"
     ]
    }
   ],
   "source": [
    "class Gato(Animal):\n",
    "    def falar(self):\n",
    "        print(\"Miau\")\n",
    "\n",
    "# Criando objetos\n",
    "animais = [Cachorro(\"Rex\"), Gato(\"Felix\")]\n",
    "\n",
    "for animal in animais:\n",
    "    animal.falar()\n"
   ]
  },
  {
   "cell_type": "markdown",
   "metadata": {},
   "source": [
    "# O que é Encapsulamento?\n",
    "- Encapsulamento é a prática de esconder os detalhes internos de um objeto e permitir que o acesso e a modificação de dados sejam feitos apenas através de métodos definidos. Isso protege a integridade dos dados e promove uma interface limpa."
   ]
  },
  {
   "cell_type": "code",
   "execution_count": 8,
   "metadata": {},
   "outputs": [
    {
     "name": "stdout",
     "output_type": "stream",
     "text": [
      "Saldo: 1300\n"
     ]
    }
   ],
   "source": [
    "class ContaBancaria:\n",
    "    def __init__(self, saldo_inicial):\n",
    "        self.__saldo = saldo_inicial\n",
    "\n",
    "    def depositar(self, quantia):\n",
    "        self.__saldo += quantia\n",
    "\n",
    "    def sacar(self, quantia):\n",
    "        if quantia <= self.__saldo:\n",
    "            self.__saldo -= quantia\n",
    "        else:\n",
    "            print(\"Saldo insuficiente\")\n",
    "\n",
    "    def mostrar_saldo(self):\n",
    "        print(f\"Saldo: {self.__saldo}\")\n",
    "\n",
    "# Criando um objeto\n",
    "conta = ContaBancaria(1000)\n",
    "conta.depositar(500)\n",
    "conta.sacar(200)\n",
    "conta.mostrar_saldo()\n"
   ]
  },
  {
   "cell_type": "markdown",
   "metadata": {},
   "source": [
    "# O que é Paradigma?\n",
    "- Um paradigma de programação é um estilo ou forma de programação. Ele define a maneira como os problemas são abordados e as soluções são expressas em código. Exemplos de paradigmas incluem orientação a objetos, programação funcional, programação procedural, etc."
   ]
  },
  {
   "cell_type": "code",
   "execution_count": 9,
   "metadata": {},
   "outputs": [
    {
     "name": "stdout",
     "output_type": "stream",
     "text": [
      "[2, 4, 6, 8, 10]\n"
     ]
    }
   ],
   "source": [
    "# Exemplo de programação funcional\n",
    "def dobro(x):\n",
    "    return x * 2\n",
    "\n",
    "numeros = [1, 2, 3, 4, 5]\n",
    "resultados = list(map(dobro, numeros))\n",
    "print(resultados)  # [2, 4, 6, 8, 10]\n"
   ]
  },
  {
   "cell_type": "markdown",
   "metadata": {},
   "source": [
    "Esses conceitos são fundamentais para entender a programação orientada a objetos e como ela pode ser utilizada para criar sistemas robustos e reutilizáveis."
   ]
  },
  {
   "cell_type": "markdown",
   "metadata": {},
   "source": [
    "# Referências\n",
    "- Livro: JAVA guia do programador de Peter Jandl Juniro;\n",
    "- https://docs.oracle.com/javase/tutorial/java/concepts/index.html;\n",
    "- ChatGPT;\n",
    "- HASHTAG PROGRAMAÇÃO - https://www.youtube.com/watch?v=97A_Cyyh-eU"
   ]
  }
 ],
 "metadata": {
  "kernelspec": {
   "display_name": "Python 3",
   "language": "python",
   "name": "python3"
  },
  "language_info": {
   "codemirror_mode": {
    "name": "ipython",
    "version": 3
   },
   "file_extension": ".py",
   "mimetype": "text/x-python",
   "name": "python",
   "nbconvert_exporter": "python",
   "pygments_lexer": "ipython3",
   "version": "3.12.4"
  }
 },
 "nbformat": 4,
 "nbformat_minor": 2
}
