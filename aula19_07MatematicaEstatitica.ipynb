{
 "cells": [
  {
   "cell_type": "markdown",
   "metadata": {},
   "source": [
    "\n",
    "Média, Mediana, Moda, Desvio Padrão e Quartis em Matemática Estatística\n",
    "\n",
    "# Média\n",
    "A média aritmética de um conjunto de dados é a soma de todos os valores dividida pelo número de valores. É uma medida de tendência central que fornece uma ideia do valor médio dos dados.\n",
    "\n",
    "Fórmula:\n",
    "Média = (Σ x_i) / n\n",
    "onde x_i representa cada valor do conjunto de dados e n é o número total de valores.\n",
    "\n",
    "# Mediana\n",
    "A mediana é o valor que separa um conjunto de dados ordenados em duas metades iguais. Se o número de observações for ímpar, a mediana é o valor do meio. Se for par, a mediana é a média dos dois valores centrais.\n",
    "\n",
    "Para encontrar a mediana:\n",
    "1. Ordene os dados do menor para o maior.\n",
    "2. Se o número de observações (n) for ímpar, a mediana é o valor da posição (n+1)/2.\n",
    "3. Se n for par, a mediana é a média dos valores nas posições n/2 e (n/2) + 1.\n",
    "\n",
    "# Moda\n",
    "A moda é o valor ou valores que ocorrem com maior frequência em um conjunto de dados. Um conjunto de dados pode ser unimodal (uma única moda), bimodal (duas modas) ou multimodal (mais de duas modas).\n",
    "\n",
    "# Desvio Padrão\n",
    "O desvio padrão é uma medida de dispersão que indica o quanto os valores de um conjunto de dados variam em relação à média. Um desvio padrão baixo indica que os valores estão próximos da média, enquanto um desvio padrão alto indica maior variabilidade.\n",
    "\n",
    "Fórmula para o desvio padrão populacional (σ):\n",
    "σ = sqrt((Σ (x_i - μ)^2) / N)\n",
    "\n",
    "Fórmula para o desvio padrão amostral (s):\n",
    "s = sqrt((Σ (x_i - x̄)^2) / (n - 1))\n",
    "\n",
    "onde:\n",
    "- x_i são os valores do conjunto de dados.\n",
    "- μ é a média populacional.\n",
    "- x̄ é a média amostral.\n",
    "- N é o tamanho da população.\n",
    "- n é o tamanho da amostra.\n",
    "\n",
    "# Quartis\n",
    "Quartis são valores que dividem um conjunto de dados ordenado em quatro partes iguais, cada uma contendo 25% dos dados. Os quartis são:\n",
    "- Primeiro Quartil (Q1): valor abaixo do qual 25% dos dados estão.\n",
    "- Segundo Quartil (Q2): a mediana, que divide o conjunto de dados em duas metades iguais.\n",
    "- Terceiro Quartil (Q3): valor abaixo do qual 75% dos dados estão.\n",
    "\n",
    "Para encontrar os quartis:\n",
    "1. Ordene os dados.\n",
    "2. Encontre a mediana (Q2).\n",
    "3. Q1 é a mediana da metade inferior dos dados.\n",
    "4. Q3 é a mediana da metade superior dos dados.\n",
    "\n",
    "Essas medidas são essenciais para a análise estatística, pois ajudam a entender a distribuição, a tendência central e a dispersão dos dados.\n"
   ]
  }
 ],
 "metadata": {
  "language_info": {
   "name": "python"
  }
 },
 "nbformat": 4,
 "nbformat_minor": 2
}
