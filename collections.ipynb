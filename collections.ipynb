{
 "cells": [
  {
   "cell_type": "markdown",
   "metadata": {},
   "source": [
    "# Collections"
   ]
  },
  {
   "cell_type": "code",
   "execution_count": 1,
   "metadata": {},
   "outputs": [
    {
     "data": {
      "text/plain": [
       "list"
      ]
     },
     "execution_count": 1,
     "metadata": {},
     "output_type": "execute_result"
    }
   ],
   "source": [
    "#LISTA\n",
    "lista_times = [\"santos\", \"corinthians\", \"palmeiras\"]\n",
    "type(lista_times)"
   ]
  },
  {
   "cell_type": "code",
   "execution_count": 2,
   "metadata": {},
   "outputs": [
    {
     "data": {
      "text/plain": [
       "tuple"
      ]
     },
     "execution_count": 2,
     "metadata": {},
     "output_type": "execute_result"
    }
   ],
   "source": [
    "#TUPLE\n",
    "tuple_times = (\"santos\", \"corinthians\", \"palmeiras\")\n",
    "type(tuple_times)"
   ]
  },
  {
   "cell_type": "code",
   "execution_count": 6,
   "metadata": {},
   "outputs": [
    {
     "data": {
      "text/plain": [
       "{'corinthians', 'palmeiras', 'santos'}"
      ]
     },
     "execution_count": 6,
     "metadata": {},
     "output_type": "execute_result"
    }
   ],
   "source": [
    "#CONJUNTOS, TUPLE, LISTA (pode se trabalhar com os 3 tipos)\n",
    "conjunto_times = {\"santos\", \"corinthians\", \"palmeiras\"}\n",
    "#type(lista_times)\n",
    "conjunto_times"
   ]
  },
  {
   "cell_type": "code",
   "execution_count": 7,
   "metadata": {},
   "outputs": [
    {
     "name": "stdout",
     "output_type": "stream",
     "text": [
      "3\n",
      "taguatinga: 3\n",
      "brazlandia: 5\n",
      "ceilandia: 2\n",
      "candogolandia: 4\n"
     ]
    }
   ],
   "source": [
    "#DICIONARIOS\n",
    "\n",
    "# Criando um dicionario com informações sobre apartamentos\n",
    "apartamentos = {\n",
    "    \"taguatinga\": 3,\n",
    "    \"brazlandia\": 5,\n",
    "    \"ceilandia\": 2\n",
    "}\n",
    "\n",
    "# Acessando valores no dicionario\n",
    "print(apartamentos[\"taguatinga\"]) # Saída: 3\n",
    "\n",
    "# Adicionando um novo apartamento\n",
    "apartamentos[\"candogolandia\"] = 4\n",
    "\n",
    "# Iterando sobre as chaves e valores\n",
    "for apartamento, quantidade in apartamentos.items():\n",
    "    print(f'{apartamento}: {quantidade}')"
   ]
  }
 ],
 "metadata": {
  "kernelspec": {
   "display_name": ".venv",
   "language": "python",
   "name": "python3"
  },
  "language_info": {
   "codemirror_mode": {
    "name": "ipython",
    "version": 3
   },
   "file_extension": ".py",
   "mimetype": "text/x-python",
   "name": "python",
   "nbconvert_exporter": "python",
   "pygments_lexer": "ipython3",
   "version": "3.12.4"
  }
 },
 "nbformat": 4,
 "nbformat_minor": 2
}
